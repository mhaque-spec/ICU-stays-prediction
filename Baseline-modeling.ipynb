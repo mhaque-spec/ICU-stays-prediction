{
 "cells": [
  {
   "cell_type": "markdown",
   "id": "afeda3b9-91bd-4372-a8ae-99e61bbe5f57",
   "metadata": {},
   "source": [
    "# Pre-processing after feat.eng."
   ]
  },
  {
   "cell_type": "code",
   "execution_count": 281,
   "id": "6bb237b7-e90e-48f1-92b8-efb947368538",
   "metadata": {},
   "outputs": [],
   "source": [
    "from sklearn.pipeline import Pipeline\n",
    "from sklearn.compose import ColumnTransformer\n",
    "from sklearn.preprocessing import OneHotEncoder\n",
    "from sklearn.impute import SimpleImputer\n",
    "from sklearn.preprocessing import StandardScaler\n",
    "\n",
    "from sklearn.compose import make_column_selector as selector\n",
    "from sklearn.model_selection import train_test_split\n",
    "\n",
    "from sklearn.model_selection import GridSearchCV\n",
    "from sklearn.svm import SVR\n",
    "from sklearn.ensemble import RandomForestRegressor\n",
    "from sklearn.ensemble import GradientBoostingRegressor\n",
    "from sklearn.linear_model import ElasticNet\n",
    "\n",
    "from sklearn.metrics import r2_score\n",
    "from sklearn.metrics import mean_absolute_error\n",
    "from sklearn.metrics import mean_squared_error\n",
    "\n",
    "import joblib"
   ]
  },
  {
   "cell_type": "code",
   "execution_count": 140,
   "id": "99656be0-97bf-4a0a-8d8c-e6354ef5acb5",
   "metadata": {},
   "outputs": [],
   "source": [
    "mode_imp = SimpleImputer(strategy='most_frequent')\n",
    "scaler = StandardScaler()\n",
    "encoder = OneHotEncoder(sparse=False,handle_unknown='ignore')"
   ]
  },
  {
   "cell_type": "code",
   "execution_count": 141,
   "id": "9b8b30d3-e354-4795-adc2-1be97ac8e7de",
   "metadata": {
    "tags": []
   },
   "outputs": [],
   "source": [
    "numeric_transform = Pipeline([('impute-mode', mode_imp),\n",
    "                                ('scaling', scaler)])\n",
    "categoric_transform = Pipeline([('impute-mode', mode_imp),\n",
    "                                          ('one-hot-encode', encoder)])"
   ]
  },
  {
   "cell_type": "code",
   "execution_count": 142,
   "id": "f2bd20ab-35c4-4fc4-8f89-7ab038c5bfb3",
   "metadata": {
    "tags": []
   },
   "outputs": [],
   "source": [
    "pre_processing = ColumnTransformer([('numeric_cols',numeric_transform,selector(dtype_include=\"float64\")),\n",
    "                                    ('categoric_cols',categoric_transform,selector(dtype_include=\"object\"))]\n",
    "                                   ,remainder='drop')"
   ]
  },
  {
   "cell_type": "code",
   "execution_count": 143,
   "id": "30acc719-bb65-4adc-9c90-7477bbf3557d",
   "metadata": {},
   "outputs": [],
   "source": [
    "y = final_df['seq']\n",
    "X = final_df.drop(['seq'],axis=1)\n",
    "\n",
    "X_train, X_test, y_train, y_test = train_test_split(X, y, test_size=0.3)"
   ]
  },
  {
   "cell_type": "code",
   "execution_count": 270,
   "id": "74586932-8afe-44dc-b647-06c3522da07b",
   "metadata": {},
   "outputs": [],
   "source": [
    "X_train.to_csv('train-test-1/X_train.csv',index=False)\n",
    "y_train.to_csv('train-test-1/y_train.csv',index=False)\n",
    "X_test.to_csv('train-test-1/X_test.csv',index=False)\n",
    "y_test.to_csv('train-test-1/y_test.csv',index=False)"
   ]
  },
  {
   "cell_type": "markdown",
   "id": "0d6178b9-0f33-480e-bbd0-3f5dfc3f3841",
   "metadata": {},
   "source": [
    "# Support Vector Regressor"
   ]
  },
  {
   "cell_type": "code",
   "execution_count": 217,
   "id": "9a3f1666-3a85-49a4-b38d-c611e2b5d07f",
   "metadata": {},
   "outputs": [],
   "source": [
    "svr_pipeline = Pipeline(steps=[('processing', pre_processing),\n",
    "                           ('svr',SVR())])"
   ]
  },
  {
   "cell_type": "code",
   "execution_count": 218,
   "id": "5c649548-8077-4206-a96b-0a108580163d",
   "metadata": {
    "scrolled": true,
    "tags": []
   },
   "outputs": [
    {
     "name": "stdout",
     "output_type": "stream",
     "text": [
      "CPU times: user 1min 15s, sys: 491 ms, total: 1min 15s\n",
      "Wall time: 1min 16s\n"
     ]
    },
    {
     "data": {
      "text/plain": [
       "GridSearchCV(cv=5,\n",
       "             estimator=Pipeline(steps=[('processing',\n",
       "                                        ColumnTransformer(transformers=[('numeric_cols',\n",
       "                                                                         Pipeline(steps=[('impute-mode',\n",
       "                                                                                          SimpleImputer(strategy='most_frequent')),\n",
       "                                                                                         ('scaling',\n",
       "                                                                                          StandardScaler())]),\n",
       "                                                                         <sklearn.compose._column_transformer.make_column_selector object at 0x7fa366907780>),\n",
       "                                                                        ('categoric_cols',\n",
       "                                                                         Pipeline(steps=[('impute-mode',\n",
       "                                                                                          SimpleImputer(strategy='most_frequent')),\n",
       "                                                                                         ('one-hot-encode',\n",
       "                                                                                          OneHotEncoder(handle_unknown='ignore',\n",
       "                                                                                                        sparse=False))]),\n",
       "                                                                         <sklearn.compose._column_transformer.make_column_selector object at 0x7fa366907940>)])),\n",
       "                                       ('svr', SVR())]),\n",
       "             param_grid={'svr__C': [1, 1.5, 2, 2.2, 2.5, 3],\n",
       "                         'svr__kernel': ['rbf', 'sigmoid']})"
      ]
     },
     "execution_count": 218,
     "metadata": {},
     "output_type": "execute_result"
    }
   ],
   "source": [
    "%%time\n",
    "# Find the best hyperparameters using GridSearchCV on the train set\n",
    "param_grid = {'svr__kernel':['rbf', 'sigmoid'],\n",
    "              'svr__C':[1,1.5,2,2.2,2.5,3]}\n",
    "svr_grid = GridSearchCV(svr_pipeline, param_grid=param_grid, cv=5)\n",
    "svr_grid.fit(X_train, y_train)"
   ]
  },
  {
   "cell_type": "code",
   "execution_count": 219,
   "id": "3999b9a5-1b3c-4700-a0b1-abd757909663",
   "metadata": {},
   "outputs": [],
   "source": [
    "best_svr = svr_grid.best_estimator_\n",
    "best_hyperparams_svr = svr_grid.best_params_"
   ]
  },
  {
   "cell_type": "code",
   "execution_count": 220,
   "id": "af90388d-485f-4b2e-97b4-22a92d6df2ae",
   "metadata": {},
   "outputs": [
    {
     "data": {
      "text/plain": [
       "{'svr__C': 3, 'svr__kernel': 'rbf'}"
      ]
     },
     "execution_count": 220,
     "metadata": {},
     "output_type": "execute_result"
    }
   ],
   "source": [
    "best_hyperparams_svr"
   ]
  },
  {
   "cell_type": "code",
   "execution_count": 221,
   "id": "c339d192-80fe-4d69-95a6-940b1de367e2",
   "metadata": {},
   "outputs": [],
   "source": [
    "y_pred = svr_grid.predict(X_test)"
   ]
  },
  {
   "cell_type": "code",
   "execution_count": 222,
   "id": "54bab85b-75e7-4b5a-9de4-2ae439e8a64c",
   "metadata": {},
   "outputs": [
    {
     "data": {
      "text/plain": [
       "0.31368271393013125"
      ]
     },
     "execution_count": 222,
     "metadata": {},
     "output_type": "execute_result"
    }
   ],
   "source": [
    "r2_score(y_test,y_pred)"
   ]
  },
  {
   "cell_type": "code",
   "execution_count": 223,
   "id": "f177af7f-9ccd-4f9e-9c2d-b1f41586f674",
   "metadata": {},
   "outputs": [
    {
     "data": {
      "text/plain": [
       "3.117398537611225"
      ]
     },
     "execution_count": 223,
     "metadata": {},
     "output_type": "execute_result"
    }
   ],
   "source": [
    "mean_absolute_error(y_test,y_pred)"
   ]
  },
  {
   "cell_type": "code",
   "execution_count": 224,
   "id": "ae6d9e59-2805-463b-aab4-df7bfe6d31ca",
   "metadata": {},
   "outputs": [
    {
     "data": {
      "text/plain": [
       "48.52796766292824"
      ]
     },
     "execution_count": 224,
     "metadata": {},
     "output_type": "execute_result"
    }
   ],
   "source": [
    "mean_squared_error(y_test,y_pred)"
   ]
  },
  {
   "cell_type": "code",
   "execution_count": 226,
   "id": "1f8289c9-15fd-4f72-af6d-60124bd7ee3a",
   "metadata": {},
   "outputs": [
    {
     "data": {
      "text/plain": [
       "['models-1/baseline_svr.pkl']"
      ]
     },
     "execution_count": 226,
     "metadata": {},
     "output_type": "execute_result"
    }
   ],
   "source": [
    "joblib.dump(best_svr, 'models-1/baseline_svr.pkl')"
   ]
  },
  {
   "cell_type": "markdown",
   "id": "be27e7f5-8f8f-4783-b61f-90523941e4fa",
   "metadata": {},
   "source": [
    "# Random Forest Regressor"
   ]
  },
  {
   "cell_type": "code",
   "execution_count": 198,
   "id": "169f435f-34f1-45f0-8528-865984a5f6ae",
   "metadata": {},
   "outputs": [],
   "source": [
    "pipe_RandForest = Pipeline(steps=[('processing', pre_processing),\n",
    "                           ('RForest',RandomForestRegressor())])"
   ]
  },
  {
   "cell_type": "code",
   "execution_count": 205,
   "id": "2c4bdd12-63a9-4586-ae80-9ca2bd27e778",
   "metadata": {
    "scrolled": true,
    "tags": []
   },
   "outputs": [
    {
     "name": "stdout",
     "output_type": "stream",
     "text": [
      "CPU times: user 9min 47s, sys: 5.36 s, total: 9min 53s\n",
      "Wall time: 10min 27s\n"
     ]
    },
    {
     "data": {
      "text/plain": [
       "GridSearchCV(cv=5,\n",
       "             estimator=Pipeline(steps=[('processing',\n",
       "                                        ColumnTransformer(transformers=[('numeric_cols',\n",
       "                                                                         Pipeline(steps=[('impute-mode',\n",
       "                                                                                          SimpleImputer(strategy='most_frequent')),\n",
       "                                                                                         ('scaling',\n",
       "                                                                                          StandardScaler())]),\n",
       "                                                                         <sklearn.compose._column_transformer.make_column_selector object at 0x7fa366907780>),\n",
       "                                                                        ('categoric_cols',\n",
       "                                                                         Pipeline(steps=[('impute-mode',\n",
       "                                                                                          SimpleImpu...ost_frequent')),\n",
       "                                                                                         ('one-hot-encode',\n",
       "                                                                                          OneHotEncoder(handle_unknown='ignore',\n",
       "                                                                                                        sparse=False))]),\n",
       "                                                                         <sklearn.compose._column_transformer.make_column_selector object at 0x7fa366907940>)])),\n",
       "                                       ('RForest', RandomForestRegressor())]),\n",
       "             param_grid={'RForest__min_samples_leaf': [1, 3, 5, 7, 9],\n",
       "                         'RForest__min_samples_split': [4, 6, 8, 10],\n",
       "                         'RForest__n_estimators': [10, 20, 35, 55, 80, 100]})"
      ]
     },
     "execution_count": 205,
     "metadata": {},
     "output_type": "execute_result"
    }
   ],
   "source": [
    "%%time\n",
    "# Find the best hyperparameters using GridSearchCV on the train set\n",
    "param_grid = {'RForest__n_estimators':[10,20,35,55,80,100],\n",
    "             'RForest__min_samples_split':[4,6,8,10],\n",
    "             'RForest__min_samples_leaf':[1,3,5,7,9]}\n",
    "rForest_grid = GridSearchCV(pipe_RandForest, param_grid=param_grid, cv=5)\n",
    "rForest_grid.fit(X_train, y_train)"
   ]
  },
  {
   "cell_type": "code",
   "execution_count": 209,
   "id": "8d2244db-a769-43df-982c-1229cdb48ad5",
   "metadata": {},
   "outputs": [],
   "source": [
    "best_rForest = rForest_grid.best_estimator_\n",
    "best_hyperparams_rForest = rForest_grid.best_params_"
   ]
  },
  {
   "cell_type": "code",
   "execution_count": 211,
   "id": "96795d3e-997b-4922-9e48-3ae8ac7b99c4",
   "metadata": {},
   "outputs": [
    {
     "data": {
      "text/plain": [
       "{'RForest__min_samples_leaf': 5,\n",
       " 'RForest__min_samples_split': 8,\n",
       " 'RForest__n_estimators': 35}"
      ]
     },
     "execution_count": 211,
     "metadata": {},
     "output_type": "execute_result"
    }
   ],
   "source": [
    "best_hyperparams_rForest"
   ]
  },
  {
   "cell_type": "code",
   "execution_count": 212,
   "id": "fac2593d-6b08-4e0a-91b8-da60117403d4",
   "metadata": {},
   "outputs": [],
   "source": [
    "y_pred = rForest_grid.predict(X_test)"
   ]
  },
  {
   "cell_type": "code",
   "execution_count": 213,
   "id": "ab743bd1-7694-45a3-8523-bc4a7b9a53b7",
   "metadata": {},
   "outputs": [
    {
     "data": {
      "text/plain": [
       "0.4514790347792569"
      ]
     },
     "execution_count": 213,
     "metadata": {},
     "output_type": "execute_result"
    }
   ],
   "source": [
    "r2_score(y_test,y_pred)"
   ]
  },
  {
   "cell_type": "code",
   "execution_count": 230,
   "id": "bcf06d01-02ae-4f04-a21d-2ca70d0960ec",
   "metadata": {},
   "outputs": [
    {
     "data": {
      "text/plain": [
       "['models-1/baseline_rForest.pkl']"
      ]
     },
     "execution_count": 230,
     "metadata": {},
     "output_type": "execute_result"
    }
   ],
   "source": [
    "joblib.dump(best_rForest, 'models-1/baseline_rForest.pkl')"
   ]
  },
  {
   "cell_type": "code",
   "execution_count": null,
   "id": "6998d20c-b583-4a3d-8d28-7554c648f1b4",
   "metadata": {},
   "outputs": [],
   "source": []
  },
  {
   "cell_type": "code",
   "execution_count": null,
   "id": "ee561fef-e7fd-4087-8969-fe5e3505dece",
   "metadata": {},
   "outputs": [],
   "source": []
  },
  {
   "cell_type": "markdown",
   "id": "f1868829-4a61-43dc-8f0a-7d1fcd936e2a",
   "metadata": {},
   "source": [
    "# XGBRegressor"
   ]
  },
  {
   "cell_type": "code",
   "execution_count": 260,
   "id": "caf935f7-3a24-4709-b84a-c1248af58636",
   "metadata": {},
   "outputs": [],
   "source": [
    "pipe_GrBoost = Pipeline(steps=[('processing', pre_processing),\n",
    "                           ('GrBoost',GradientBoostingRegressor(loss='lad',learning_rate=0.1,n_estimators=100,max_depth=6,min_samples_split=5))])"
   ]
  },
  {
   "cell_type": "code",
   "execution_count": 265,
   "id": "5f336c5e-ba0e-4aff-b9ae-20b7ddb22284",
   "metadata": {},
   "outputs": [
    {
     "data": {
      "text/plain": [
       "Pipeline(steps=[('processing',\n",
       "                 ColumnTransformer(transformers=[('numeric_cols',\n",
       "                                                  Pipeline(steps=[('impute-mode',\n",
       "                                                                   SimpleImputer(strategy='most_frequent')),\n",
       "                                                                  ('scaling',\n",
       "                                                                   StandardScaler())]),\n",
       "                                                  <sklearn.compose._column_transformer.make_column_selector object at 0x7fa366907780>),\n",
       "                                                 ('categoric_cols',\n",
       "                                                  Pipeline(steps=[('impute-mode',\n",
       "                                                                   SimpleImputer(strategy='most_frequent')),\n",
       "                                                                  ('one-hot-encode',\n",
       "                                                                   OneHotEncoder(handle_unknown='ignore',\n",
       "                                                                                 sparse=False))]),\n",
       "                                                  <sklearn.compose._column_transformer.make_column_selector object at 0x7fa366907940>)])),\n",
       "                ('GrBoost',\n",
       "                 GradientBoostingRegressor(loss='lad', max_depth=6,\n",
       "                                           min_samples_split=5))])"
      ]
     },
     "execution_count": 265,
     "metadata": {},
     "output_type": "execute_result"
    }
   ],
   "source": [
    "pipe_GrBoost.fit(X_train,y_train)"
   ]
  },
  {
   "cell_type": "code",
   "execution_count": 278,
   "id": "3945a621-ddfe-4b38-8d34-d49e64bf6fcb",
   "metadata": {},
   "outputs": [],
   "source": [
    "y_pred = pipe_GrBoost.predict(X_test)"
   ]
  },
  {
   "cell_type": "code",
   "execution_count": 279,
   "id": "da57732f-ee7b-43cb-b3a9-de259bc383bc",
   "metadata": {},
   "outputs": [
    {
     "data": {
      "text/plain": [
       "0.4418261732614325"
      ]
     },
     "execution_count": 279,
     "metadata": {},
     "output_type": "execute_result"
    }
   ],
   "source": [
    "r2_score(y_test,y_pred)"
   ]
  },
  {
   "cell_type": "code",
   "execution_count": 273,
   "id": "d5a41aab-416f-4a28-9932-0b5a18fd2990",
   "metadata": {},
   "outputs": [
    {
     "data": {
      "text/plain": [
       "['models-1/baseline_GrBoost.pkl']"
      ]
     },
     "execution_count": 273,
     "metadata": {},
     "output_type": "execute_result"
    }
   ],
   "source": [
    "joblib.dump(pipe_GrBoost, 'models-1/baseline_GrBoost.pkl')"
   ]
  },
  {
   "cell_type": "code",
   "execution_count": null,
   "id": "dfc75af8-c2be-45c1-a0b8-4b1b942fa308",
   "metadata": {},
   "outputs": [],
   "source": []
  },
  {
   "cell_type": "markdown",
   "id": "e8d4bca6-7a2f-4ecd-bfa3-804d82af4cb2",
   "metadata": {},
   "source": [
    "# Elastic net"
   ]
  },
  {
   "cell_type": "code",
   "execution_count": 284,
   "id": "59abb0af-8ef6-47d5-becc-0bca7bc6f910",
   "metadata": {},
   "outputs": [],
   "source": [
    "pipe_eNet = Pipeline(steps=[('processing', pre_processing),\n",
    "                           ('eNet',ElasticNet())])"
   ]
  },
  {
   "cell_type": "code",
   "execution_count": 285,
   "id": "c8067e88-450d-49c0-9f10-1efb86aa3dbf",
   "metadata": {},
   "outputs": [
    {
     "name": "stdout",
     "output_type": "stream",
     "text": [
      "CPU times: user 17.4 s, sys: 3.27 s, total: 20.7 s\n",
      "Wall time: 7.83 s\n"
     ]
    },
    {
     "data": {
      "text/plain": [
       "GridSearchCV(cv=5,\n",
       "             estimator=Pipeline(steps=[('processing',\n",
       "                                        ColumnTransformer(transformers=[('numeric_cols',\n",
       "                                                                         Pipeline(steps=[('impute-mode',\n",
       "                                                                                          SimpleImputer(strategy='most_frequent')),\n",
       "                                                                                         ('scaling',\n",
       "                                                                                          StandardScaler())]),\n",
       "                                                                         <sklearn.compose._column_transformer.make_column_selector object at 0x7fa366907780>),\n",
       "                                                                        ('categoric_cols',\n",
       "                                                                         Pipeline(steps=[('impute-mode',\n",
       "                                                                                          SimpleImputer(strategy='most_frequent')),\n",
       "                                                                                         ('one-hot-encode',\n",
       "                                                                                          OneHotEncoder(handle_unknown='ignore',\n",
       "                                                                                                        sparse=False))]),\n",
       "                                                                         <sklearn.compose._column_transformer.make_column_selector object at 0x7fa366907940>)])),\n",
       "                                       ('eNet', ElasticNet())]),\n",
       "             param_grid={'eNet__alpha': [0.1, 0.2, 0.5, 1],\n",
       "                         'eNet__l1_ratio': [0.1, 0.5, 0.7],\n",
       "                         'eNet__max_iter': [1000, 2000]})"
      ]
     },
     "execution_count": 285,
     "metadata": {},
     "output_type": "execute_result"
    }
   ],
   "source": [
    "%%time\n",
    "# Find the best hyperparameters using GridSearchCV on the train set\n",
    "param_grid = {'eNet__alpha':[0.1,0.2,0.5,1],\n",
    "             'eNet__l1_ratio':[0.1,0.5,0.7],\n",
    "             'eNet__max_iter':[1000,2000]}\n",
    "eNet_grid = GridSearchCV(pipe_eNet, param_grid=param_grid, cv=5)\n",
    "eNet_grid.fit(X_train, y_train)"
   ]
  },
  {
   "cell_type": "code",
   "execution_count": 286,
   "id": "61d9ac42-a53a-48e4-b606-f8e4f0604117",
   "metadata": {},
   "outputs": [],
   "source": [
    "best_eNet = eNet_grid.best_estimator_\n",
    "best_hyperparams_eNet = eNet_grid.best_params_"
   ]
  },
  {
   "cell_type": "code",
   "execution_count": 287,
   "id": "a682bf4f-8a4f-4daf-9dde-54cc80cb7c09",
   "metadata": {},
   "outputs": [
    {
     "data": {
      "text/plain": [
       "{'eNet__alpha': 0.1, 'eNet__l1_ratio': 0.1, 'eNet__max_iter': 1000}"
      ]
     },
     "execution_count": 287,
     "metadata": {},
     "output_type": "execute_result"
    }
   ],
   "source": [
    "best_hyperparams_eNet"
   ]
  },
  {
   "cell_type": "code",
   "execution_count": 288,
   "id": "cd2afdea-5184-4bd0-aaab-6dcb4f54eec9",
   "metadata": {},
   "outputs": [
    {
     "data": {
      "text/plain": [
       "0.3031358422738887"
      ]
     },
     "execution_count": 288,
     "metadata": {},
     "output_type": "execute_result"
    }
   ],
   "source": [
    "y_pred = best_eNet.predict(X_test)\n",
    "r2_score(y_test,y_pred)"
   ]
  },
  {
   "cell_type": "code",
   "execution_count": 289,
   "id": "9b917754-fcf1-4fb6-a17c-3828e96f2310",
   "metadata": {},
   "outputs": [
    {
     "data": {
      "text/plain": [
       "['models-1/baseline_eNet.pkl']"
      ]
     },
     "execution_count": 289,
     "metadata": {},
     "output_type": "execute_result"
    }
   ],
   "source": [
    "joblib.dump(best_eNet, 'models-1/baseline_eNet.pkl')"
   ]
  },
  {
   "cell_type": "code",
   "execution_count": null,
   "id": "12717f17-c72c-4df8-8343-d5e5503136d9",
   "metadata": {},
   "outputs": [],
   "source": []
  }
 ],
 "metadata": {
  "kernelspec": {
   "display_name": "ML_env",
   "language": "python",
   "name": "ml_env"
  },
  "language_info": {
   "codemirror_mode": {
    "name": "ipython",
    "version": 3
   },
   "file_extension": ".py",
   "mimetype": "text/x-python",
   "name": "python",
   "nbconvert_exporter": "python",
   "pygments_lexer": "ipython3",
   "version": "3.6.13"
  }
 },
 "nbformat": 4,
 "nbformat_minor": 5
}
